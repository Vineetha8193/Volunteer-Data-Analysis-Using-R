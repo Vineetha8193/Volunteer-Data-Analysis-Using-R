{
  "nbformat": 4,
  "nbformat_minor": 0,
  "metadata": {
    "colab": {
      "provenance": [],
      "authorship_tag": "ABX9TyPQ+w7XD74MYWbw8zHCAfqW",
      "include_colab_link": true
    },
    "kernelspec": {
      "name": "ir",
      "display_name": "R"
    },
    "language_info": {
      "name": "R"
    }
  },
  "cells": [
    {
      "cell_type": "markdown",
      "metadata": {
        "id": "view-in-github",
        "colab_type": "text"
      },
      "source": [
        "<a href=\"https://colab.research.google.com/github/Vineetha8193/Volunteer-Data-Analysis-Using-R/blob/main/DER.ipynb\" target=\"_parent\"><img src=\"https://colab.research.google.com/assets/colab-badge.svg\" alt=\"Open In Colab\"/></a>"
      ]
    },
    {
      "cell_type": "code",
      "source": [
        "# Load required libraries\n",
        "library(tidyverse)\n",
        "\n",
        "# Read the data (replace 'volunteer_data.csv' with your file name)\n",
        "volunteer_data <- read.csv(\"volunteer_opportunities.csv\")"
      ],
      "metadata": {
        "id": "cKg0DJOdnI95"
      },
      "execution_count": null,
      "outputs": []
    },
    {
      "cell_type": "code",
      "source": [
        "# Check the structure of the dataset\n",
        "str(volunteer_data)"
      ],
      "metadata": {
        "colab": {
          "base_uri": "https://localhost:8080/"
        },
        "id": "UfOKPWL-oLBo",
        "outputId": "bc6b183d-1485-4f26-a26a-4ab63a97a3d0"
      },
      "execution_count": null,
      "outputs": [
        {
          "output_type": "stream",
          "name": "stdout",
          "text": [
            "'data.frame':\t665 obs. of  35 variables:\n",
            " $ opportunity_id    : int  4996 5008 5016 5022 5055 5056 5053 5085 5091 5093 ...\n",
            " $ content_id        : int  37004 37036 37143 37237 37425 37426 37406 37652 37730 37741 ...\n",
            " $ vol_requests      : int  50 2 20 500 15 15 2 20 100 1 ...\n",
            " $ event_time        : int  0 0 0 0 0 0 0 0 0 0 ...\n",
            " $ title             : chr  \"Volunteers Needed For Rise Up & Stay Put! Home Rescue Fair \" \"Web designer\" \"Urban Adventures - Ice Skating at Lasker Rink\" \"Fight global hunger and support women farmers - Join the Oxfam Action Corps in NYC!\" ...\n",
            " $ hits              : int  737 22 62 14 31 135 156 4407 325 928 ...\n",
            " $ summary           : chr  \"Building on successful events last summer and earlier this year in the Bronx and in Queens, the Center for NYC \"| __truncated__ \"Build a website for an Afghan business\" \"Please join us and the students from Mott Hall on Saturday, January 29th, for an ice skating trip to Lasker Lanes!\" \"The Oxfam Action Corps is a group of dedicated volunteers that raise awareness by holding events and reaching o\"| __truncated__ ...\n",
            " $ is_priority       : chr  \"\" \"\" \"\" \"\" ...\n",
            " $ category_id       : num  NA 1 1 1 4 4 1 2 NA 5 ...\n",
            " $ category_desc     : chr  \"\" \"Strengthening Communities\" \"Strengthening Communities\" \"Strengthening Communities\" ...\n",
            " $ amsl              : logi  NA NA NA NA NA NA ...\n",
            " $ amsl_unit         : logi  NA NA NA NA NA NA ...\n",
            " $ org_title         : chr  \"Center For NYC Neighborhoods\" \"Bpeace\" \"Street Project\" \"Oxfam America\" ...\n",
            " $ org_content_id    : int  4426 37026 3001 2170 36773 36773 37348 3784 37154 37737 ...\n",
            " $ addresses_count   : int  1 1 1 1 1 1 1 1 1 1 ...\n",
            " $ locality          : chr  \"\" \"5 22nd St\\nNew York, NY 10010\\n(40.74053152272978, -73.98923530081726)\" \"\" \"\" ...\n",
            " $ region            : chr  \"NY\" \"NY\" \"NY\" \"NY\" ...\n",
            " $ postalcode        : num  NA 10010 10026 2114 10455 ...\n",
            " $ primary_loc       : logi  NA NA NA NA NA NA ...\n",
            " $ display_url       : chr  \"/opportunities/4996\" \"/opportunities/5008\" \"/opportunities/5016\" \"/opportunities/5022\" ...\n",
            " $ recurrence_type   : chr  \"onetime\" \"onetime\" \"onetime\" \"ongoing\" ...\n",
            " $ hours             : int  0 0 0 0 0 0 0 0 0 0 ...\n",
            " $ created_date      : chr  \"January 13 2011\" \"January 14 2011\" \"January 19 2011\" \"January 21 2011\" ...\n",
            " $ last_modified_date: chr  \"June 23 2011\" \"January 25 2011\" \"January 21 2011\" \"January 25 2011\" ...\n",
            " $ start_date_date   : chr  \"July 30 2011\" \"February 01 2011\" \"January 29 2011\" \"February 14 2011\" ...\n",
            " $ end_date_date     : chr  \"July 30 2011\" \"February 01 2011\" \"January 29 2011\" \"March 31 2012\" ...\n",
            " $ status            : chr  \"approved\" \"approved\" \"approved\" \"approved\" ...\n",
            " $ Latitude          : logi  NA NA NA NA NA NA ...\n",
            " $ Longitude         : logi  NA NA NA NA NA NA ...\n",
            " $ Community.Board   : logi  NA NA NA NA NA NA ...\n",
            " $ Community.Council : logi  NA NA NA NA NA NA ...\n",
            " $ Census.Tract      : logi  NA NA NA NA NA NA ...\n",
            " $ BIN               : logi  NA NA NA NA NA NA ...\n",
            " $ BBL               : logi  NA NA NA NA NA NA ...\n",
            " $ NTA               : logi  NA NA NA NA NA NA ...\n"
          ]
        }
      ]
    },
    {
      "cell_type": "code",
      "source": [
        "# View column names\n",
        "colnames(volunteer_data)"
      ],
      "metadata": {
        "colab": {
          "base_uri": "https://localhost:8080/",
          "height": 69
        },
        "id": "jiPXkJfgoQAS",
        "outputId": "8c2ac591-6529-4b93-b141-c0ff32caa3d5"
      },
      "execution_count": null,
      "outputs": [
        {
          "output_type": "display_data",
          "data": {
            "text/html": [
              "<style>\n",
              ".list-inline {list-style: none; margin:0; padding: 0}\n",
              ".list-inline>li {display: inline-block}\n",
              ".list-inline>li:not(:last-child)::after {content: \"\\00b7\"; padding: 0 .5ex}\n",
              "</style>\n",
              "<ol class=list-inline><li>'opportunity_id'</li><li>'content_id'</li><li>'vol_requests'</li><li>'event_time'</li><li>'title'</li><li>'hits'</li><li>'summary'</li><li>'is_priority'</li><li>'category_id'</li><li>'category_desc'</li><li>'amsl'</li><li>'amsl_unit'</li><li>'org_title'</li><li>'org_content_id'</li><li>'addresses_count'</li><li>'locality'</li><li>'region'</li><li>'postalcode'</li><li>'primary_loc'</li><li>'display_url'</li><li>'recurrence_type'</li><li>'hours'</li><li>'created_date'</li><li>'last_modified_date'</li><li>'start_date_date'</li><li>'end_date_date'</li><li>'status'</li><li>'Latitude'</li><li>'Longitude'</li><li>'Community.Board'</li><li>'Community.Council'</li><li>'Census.Tract'</li><li>'BIN'</li><li>'BBL'</li><li>'NTA'</li></ol>\n"
            ],
            "text/markdown": "1. 'opportunity_id'\n2. 'content_id'\n3. 'vol_requests'\n4. 'event_time'\n5. 'title'\n6. 'hits'\n7. 'summary'\n8. 'is_priority'\n9. 'category_id'\n10. 'category_desc'\n11. 'amsl'\n12. 'amsl_unit'\n13. 'org_title'\n14. 'org_content_id'\n15. 'addresses_count'\n16. 'locality'\n17. 'region'\n18. 'postalcode'\n19. 'primary_loc'\n20. 'display_url'\n21. 'recurrence_type'\n22. 'hours'\n23. 'created_date'\n24. 'last_modified_date'\n25. 'start_date_date'\n26. 'end_date_date'\n27. 'status'\n28. 'Latitude'\n29. 'Longitude'\n30. 'Community.Board'\n31. 'Community.Council'\n32. 'Census.Tract'\n33. 'BIN'\n34. 'BBL'\n35. 'NTA'\n\n\n",
            "text/latex": "\\begin{enumerate*}\n\\item 'opportunity\\_id'\n\\item 'content\\_id'\n\\item 'vol\\_requests'\n\\item 'event\\_time'\n\\item 'title'\n\\item 'hits'\n\\item 'summary'\n\\item 'is\\_priority'\n\\item 'category\\_id'\n\\item 'category\\_desc'\n\\item 'amsl'\n\\item 'amsl\\_unit'\n\\item 'org\\_title'\n\\item 'org\\_content\\_id'\n\\item 'addresses\\_count'\n\\item 'locality'\n\\item 'region'\n\\item 'postalcode'\n\\item 'primary\\_loc'\n\\item 'display\\_url'\n\\item 'recurrence\\_type'\n\\item 'hours'\n\\item 'created\\_date'\n\\item 'last\\_modified\\_date'\n\\item 'start\\_date\\_date'\n\\item 'end\\_date\\_date'\n\\item 'status'\n\\item 'Latitude'\n\\item 'Longitude'\n\\item 'Community.Board'\n\\item 'Community.Council'\n\\item 'Census.Tract'\n\\item 'BIN'\n\\item 'BBL'\n\\item 'NTA'\n\\end{enumerate*}\n",
            "text/plain": [
              " [1] \"opportunity_id\"     \"content_id\"         \"vol_requests\"      \n",
              " [4] \"event_time\"         \"title\"              \"hits\"              \n",
              " [7] \"summary\"            \"is_priority\"        \"category_id\"       \n",
              "[10] \"category_desc\"      \"amsl\"               \"amsl_unit\"         \n",
              "[13] \"org_title\"          \"org_content_id\"     \"addresses_count\"   \n",
              "[16] \"locality\"           \"region\"             \"postalcode\"        \n",
              "[19] \"primary_loc\"        \"display_url\"        \"recurrence_type\"   \n",
              "[22] \"hours\"              \"created_date\"       \"last_modified_date\"\n",
              "[25] \"start_date_date\"    \"end_date_date\"      \"status\"            \n",
              "[28] \"Latitude\"           \"Longitude\"          \"Community.Board\"   \n",
              "[31] \"Community.Council\"  \"Census.Tract\"       \"BIN\"               \n",
              "[34] \"BBL\"                \"NTA\"               "
            ]
          },
          "metadata": {}
        }
      ]
    },
    {
      "cell_type": "code",
      "source": [
        "# Summary statistics of the dataset\n",
        "summary(volunteer_data)"
      ],
      "metadata": {
        "colab": {
          "base_uri": "https://localhost:8080/",
          "height": 1000
        },
        "id": "oE1P42yUoVSs",
        "outputId": "18204432-c92c-41f8-a55f-3109807919b3"
      },
      "execution_count": null,
      "outputs": [
        {
          "output_type": "display_data",
          "data": {
            "text/plain": [
              " opportunity_id   content_id     vol_requests       event_time\n",
              " Min.   :4952   Min.   :36697   Min.   :   1.00   Min.   :0   \n",
              " 1st Qu.:5175   1st Qu.:38414   1st Qu.:   3.00   1st Qu.:0   \n",
              " Median :5377   Median :40222   Median :  12.00   Median :0   \n",
              " Mean   :5374   Mean   :42791   Mean   :  78.78   Mean   :0   \n",
              " 3rd Qu.:5580   3rd Qu.:49308   3rd Qu.:  30.00   3rd Qu.:0   \n",
              " Max.   :5782   Max.   :52894   Max.   :9999.00   Max.   :0   \n",
              "                                                              \n",
              "    title                hits          summary          is_priority       \n",
              " Length:665         Min.   :   0.0   Length:665         Length:665        \n",
              " Class :character   1st Qu.: 102.0   Class :character   Class :character  \n",
              " Mode  :character   Median : 204.0   Mode  :character   Mode  :character  \n",
              "                    Mean   : 345.4                                        \n",
              "                    3rd Qu.: 374.0                                        \n",
              "                    Max.   :4662.0                                        \n",
              "                                                                          \n",
              "  category_id    category_desc        amsl         amsl_unit     \n",
              " Min.   :1.000   Length:665         Mode:logical   Mode:logical  \n",
              " 1st Qu.:1.000   Class :character   NA's:665       NA's:665      \n",
              " Median :2.000   Mode  :character                                \n",
              " Mean   :2.105                                                   \n",
              " 3rd Qu.:3.000                                                   \n",
              " Max.   :6.000                                                   \n",
              " NA's   :48                                                      \n",
              "  org_title         org_content_id  addresses_count    locality        \n",
              " Length:665         Min.   :   24   Min.   : 1.000   Length:665        \n",
              " Class :character   1st Qu.: 2138   1st Qu.: 1.000   Class :character  \n",
              " Mode  :character   Median : 4442   Median : 1.000   Mode  :character  \n",
              "                    Mean   :20752   Mean   : 1.047                     \n",
              "                    3rd Qu.:39189   3rd Qu.: 1.000                     \n",
              "                    Max.   :52858   Max.   :12.000                     \n",
              "                                                                       \n",
              "    region            postalcode     primary_loc    display_url       \n",
              " Length:665         Min.   :  2114   Mode:logical   Length:665        \n",
              " Class :character   1st Qu.: 10010   NA's:665       Class :character  \n",
              " Mode  :character   Median : 10024                  Mode  :character  \n",
              "                    Mean   : 10482                                    \n",
              "                    3rd Qu.: 10463                                    \n",
              "                    Max.   :112112                                    \n",
              "                    NA's   :6                                         \n",
              " recurrence_type        hours          created_date       last_modified_date\n",
              " Length:665         Min.   : 0.00000   Length:665         Length:665        \n",
              " Class :character   1st Qu.: 0.00000   Class :character   Class :character  \n",
              " Mode  :character   Median : 0.00000   Mode  :character   Mode  :character  \n",
              "                    Mean   : 0.02707                                        \n",
              "                    3rd Qu.: 0.00000                                        \n",
              "                    Max.   :12.00000                                        \n",
              "                                                                            \n",
              " start_date_date    end_date_date         status          Latitude      \n",
              " Length:665         Length:665         Length:665         Mode:logical  \n",
              " Class :character   Class :character   Class :character   NA's:665      \n",
              " Mode  :character   Mode  :character   Mode  :character                 \n",
              "                                                                        \n",
              "                                                                        \n",
              "                                                                        \n",
              "                                                                        \n",
              " Longitude      Community.Board Community.Council Census.Tract     BIN         \n",
              " Mode:logical   Mode:logical    Mode:logical      Mode:logical   Mode:logical  \n",
              " NA's:665       NA's:665        NA's:665          NA's:665       NA's:665      \n",
              "                                                                               \n",
              "                                                                               \n",
              "                                                                               \n",
              "                                                                               \n",
              "                                                                               \n",
              "   BBL            NTA         \n",
              " Mode:logical   Mode:logical  \n",
              " NA's:665       NA's:665      \n",
              "                              \n",
              "                              \n",
              "                              \n",
              "                              \n",
              "                              "
            ]
          },
          "metadata": {}
        }
      ]
    },
    {
      "cell_type": "code",
      "source": [
        "# Display the first few rows\n",
        "head(volunteer_data)"
      ],
      "metadata": {
        "colab": {
          "base_uri": "https://localhost:8080/",
          "height": 931
        },
        "id": "Ip3niG56oaH_",
        "outputId": "b4bc0018-10ed-438c-adb5-fa151d313d34"
      },
      "execution_count": null,
      "outputs": [
        {
          "output_type": "display_data",
          "data": {
            "text/html": [
              "<table class=\"dataframe\">\n",
              "<caption>A data.frame: 6 × 35</caption>\n",
              "<thead>\n",
              "\t<tr><th></th><th scope=col>opportunity_id</th><th scope=col>content_id</th><th scope=col>vol_requests</th><th scope=col>event_time</th><th scope=col>title</th><th scope=col>hits</th><th scope=col>summary</th><th scope=col>is_priority</th><th scope=col>category_id</th><th scope=col>category_desc</th><th scope=col>⋯</th><th scope=col>end_date_date</th><th scope=col>status</th><th scope=col>Latitude</th><th scope=col>Longitude</th><th scope=col>Community.Board</th><th scope=col>Community.Council</th><th scope=col>Census.Tract</th><th scope=col>BIN</th><th scope=col>BBL</th><th scope=col>NTA</th></tr>\n",
              "\t<tr><th></th><th scope=col>&lt;int&gt;</th><th scope=col>&lt;int&gt;</th><th scope=col>&lt;int&gt;</th><th scope=col>&lt;int&gt;</th><th scope=col>&lt;chr&gt;</th><th scope=col>&lt;int&gt;</th><th scope=col>&lt;chr&gt;</th><th scope=col>&lt;chr&gt;</th><th scope=col>&lt;dbl&gt;</th><th scope=col>&lt;chr&gt;</th><th scope=col>⋯</th><th scope=col>&lt;chr&gt;</th><th scope=col>&lt;chr&gt;</th><th scope=col>&lt;lgl&gt;</th><th scope=col>&lt;lgl&gt;</th><th scope=col>&lt;lgl&gt;</th><th scope=col>&lt;lgl&gt;</th><th scope=col>&lt;lgl&gt;</th><th scope=col>&lt;lgl&gt;</th><th scope=col>&lt;lgl&gt;</th><th scope=col>&lt;lgl&gt;</th></tr>\n",
              "</thead>\n",
              "<tbody>\n",
              "\t<tr><th scope=row>1</th><td>4996</td><td>37004</td><td> 50</td><td>0</td><td><span style=white-space:pre-wrap>Volunteers Needed For Rise Up &amp; Stay Put! Home Rescue Fair                         </span></td><td>737</td><td>Building on successful events last summer and earlier this year in the Bronx and in Queens, the Center for NYC Neighborhoods (CNYCN) and its partners are now organizing the last 2011 Rise Up &amp; Stay Put! Home Rescue Fair. It will be on Saturday, July 30 at Long Island University in Brooklyn.</td><td></td><td>NA</td><td><span style=white-space:pre-wrap>                         </span></td><td>⋯</td><td><span style=white-space:pre-wrap>July 30 2011    </span></td><td>approved</td><td>NA</td><td>NA</td><td>NA</td><td>NA</td><td>NA</td><td>NA</td><td>NA</td><td>NA</td></tr>\n",
              "\t<tr><th scope=row>2</th><td>5008</td><td>37036</td><td>  2</td><td>0</td><td>Web designer                                                                       </td><td> 22</td><td>Build a website for an Afghan business                                                                                                                                                                                                                                                             </td><td></td><td> 1</td><td>Strengthening Communities</td><td>⋯</td><td>February 01 2011</td><td>approved</td><td>NA</td><td>NA</td><td>NA</td><td>NA</td><td>NA</td><td>NA</td><td>NA</td><td>NA</td></tr>\n",
              "\t<tr><th scope=row>3</th><td>5016</td><td>37143</td><td> 20</td><td>0</td><td>Urban Adventures - Ice Skating at Lasker Rink                                      </td><td> 62</td><td>Please join us and the students from Mott Hall on Saturday, January 29th, for an ice skating trip to Lasker Lanes!                                                                                                                                                                                 </td><td></td><td> 1</td><td>Strengthening Communities</td><td>⋯</td><td>January 29 2011 </td><td>approved</td><td>NA</td><td>NA</td><td>NA</td><td>NA</td><td>NA</td><td>NA</td><td>NA</td><td>NA</td></tr>\n",
              "\t<tr><th scope=row>4</th><td>5022</td><td>37237</td><td>500</td><td>0</td><td>Fight global hunger and support women farmers - Join the Oxfam Action Corps in NYC!</td><td> 14</td><td>The Oxfam Action Corps is a group of dedicated volunteers that raise awareness by holding events and reaching out to people in our neighborhoods, town events, rock concerts – and, most importantly, in the halls of Congress.  Sign up by February 14:  http://www.oxfamactioncorps.org          </td><td></td><td> 1</td><td>Strengthening Communities</td><td>⋯</td><td>March 31 2012   </td><td>approved</td><td>NA</td><td>NA</td><td>NA</td><td>NA</td><td>NA</td><td>NA</td><td>NA</td><td>NA</td></tr>\n",
              "\t<tr><th scope=row>5</th><td>5055</td><td>37425</td><td> 15</td><td>0</td><td>Stop 'N' Swap                                                                      </td><td> 31</td><td>Stop 'N' Swap reduces NYC's waste by finding new homes for unwanted, but usable items.  Help sort, fold and display items to make this a fun free reuse experience for all.                                                                                                                        </td><td></td><td> 4</td><td>Environment              </td><td>⋯</td><td>February 05 2011</td><td>approved</td><td>NA</td><td>NA</td><td>NA</td><td>NA</td><td>NA</td><td>NA</td><td>NA</td><td>NA</td></tr>\n",
              "\t<tr><th scope=row>6</th><td>5056</td><td>37426</td><td> 15</td><td>0</td><td>Queens Stop 'N' Swap                                                               </td><td>135</td><td>Stop 'N' Swap reduces NYC's waste by finding new homes for unwanted, but usable items.  Help sort, fold and display items to make this a fun free reuse experience for all.                                                                                                                        </td><td></td><td> 4</td><td>Environment              </td><td>⋯</td><td>February 12 2011</td><td>approved</td><td>NA</td><td>NA</td><td>NA</td><td>NA</td><td>NA</td><td>NA</td><td>NA</td><td>NA</td></tr>\n",
              "</tbody>\n",
              "</table>\n"
            ],
            "text/markdown": "\nA data.frame: 6 × 35\n\n| <!--/--> | opportunity_id &lt;int&gt; | content_id &lt;int&gt; | vol_requests &lt;int&gt; | event_time &lt;int&gt; | title &lt;chr&gt; | hits &lt;int&gt; | summary &lt;chr&gt; | is_priority &lt;chr&gt; | category_id &lt;dbl&gt; | category_desc &lt;chr&gt; | ⋯ ⋯ | end_date_date &lt;chr&gt; | status &lt;chr&gt; | Latitude &lt;lgl&gt; | Longitude &lt;lgl&gt; | Community.Board &lt;lgl&gt; | Community.Council &lt;lgl&gt; | Census.Tract &lt;lgl&gt; | BIN &lt;lgl&gt; | BBL &lt;lgl&gt; | NTA &lt;lgl&gt; |\n|---|---|---|---|---|---|---|---|---|---|---|---|---|---|---|---|---|---|---|---|---|---|\n| 1 | 4996 | 37004 |  50 | 0 | Volunteers Needed For Rise Up &amp; Stay Put! Home Rescue Fair                          | 737 | Building on successful events last summer and earlier this year in the Bronx and in Queens, the Center for NYC Neighborhoods (CNYCN) and its partners are now organizing the last 2011 Rise Up &amp; Stay Put! Home Rescue Fair. It will be on Saturday, July 30 at Long Island University in Brooklyn. | <!----> | NA | <!----> | ⋯ | July 30 2011     | approved | NA | NA | NA | NA | NA | NA | NA | NA |\n| 2 | 5008 | 37036 |   2 | 0 | Web designer                                                                        |  22 | Build a website for an Afghan business                                                                                                                                                                                                                                                              | <!----> |  1 | Strengthening Communities | ⋯ | February 01 2011 | approved | NA | NA | NA | NA | NA | NA | NA | NA |\n| 3 | 5016 | 37143 |  20 | 0 | Urban Adventures - Ice Skating at Lasker Rink                                       |  62 | Please join us and the students from Mott Hall on Saturday, January 29th, for an ice skating trip to Lasker Lanes!                                                                                                                                                                                  | <!----> |  1 | Strengthening Communities | ⋯ | January 29 2011  | approved | NA | NA | NA | NA | NA | NA | NA | NA |\n| 4 | 5022 | 37237 | 500 | 0 | Fight global hunger and support women farmers - Join the Oxfam Action Corps in NYC! |  14 | The Oxfam Action Corps is a group of dedicated volunteers that raise awareness by holding events and reaching out to people in our neighborhoods, town events, rock concerts – and, most importantly, in the halls of Congress.  Sign up by February 14:  http://www.oxfamactioncorps.org           | <!----> |  1 | Strengthening Communities | ⋯ | March 31 2012    | approved | NA | NA | NA | NA | NA | NA | NA | NA |\n| 5 | 5055 | 37425 |  15 | 0 | Stop 'N' Swap                                                                       |  31 | Stop 'N' Swap reduces NYC's waste by finding new homes for unwanted, but usable items.  Help sort, fold and display items to make this a fun free reuse experience for all.                                                                                                                         | <!----> |  4 | Environment               | ⋯ | February 05 2011 | approved | NA | NA | NA | NA | NA | NA | NA | NA |\n| 6 | 5056 | 37426 |  15 | 0 | Queens Stop 'N' Swap                                                                | 135 | Stop 'N' Swap reduces NYC's waste by finding new homes for unwanted, but usable items.  Help sort, fold and display items to make this a fun free reuse experience for all.                                                                                                                         | <!----> |  4 | Environment               | ⋯ | February 12 2011 | approved | NA | NA | NA | NA | NA | NA | NA | NA |\n\n",
            "text/latex": "A data.frame: 6 × 35\n\\begin{tabular}{r|lllllllllllllllllllll}\n  & opportunity\\_id & content\\_id & vol\\_requests & event\\_time & title & hits & summary & is\\_priority & category\\_id & category\\_desc & ⋯ & end\\_date\\_date & status & Latitude & Longitude & Community.Board & Community.Council & Census.Tract & BIN & BBL & NTA\\\\\n  & <int> & <int> & <int> & <int> & <chr> & <int> & <chr> & <chr> & <dbl> & <chr> & ⋯ & <chr> & <chr> & <lgl> & <lgl> & <lgl> & <lgl> & <lgl> & <lgl> & <lgl> & <lgl>\\\\\n\\hline\n\t1 & 4996 & 37004 &  50 & 0 & Volunteers Needed For Rise Up \\& Stay Put! Home Rescue Fair                          & 737 & Building on successful events last summer and earlier this year in the Bronx and in Queens, the Center for NYC Neighborhoods (CNYCN) and its partners are now organizing the last 2011 Rise Up \\& Stay Put! Home Rescue Fair. It will be on Saturday, July 30 at Long Island University in Brooklyn. &  & NA &                           & ⋯ & July 30 2011     & approved & NA & NA & NA & NA & NA & NA & NA & NA\\\\\n\t2 & 5008 & 37036 &   2 & 0 & Web designer                                                                        &  22 & Build a website for an Afghan business                                                                                                                                                                                                                                                              &  &  1 & Strengthening Communities & ⋯ & February 01 2011 & approved & NA & NA & NA & NA & NA & NA & NA & NA\\\\\n\t3 & 5016 & 37143 &  20 & 0 & Urban Adventures - Ice Skating at Lasker Rink                                       &  62 & Please join us and the students from Mott Hall on Saturday, January 29th, for an ice skating trip to Lasker Lanes!                                                                                                                                                                                  &  &  1 & Strengthening Communities & ⋯ & January 29 2011  & approved & NA & NA & NA & NA & NA & NA & NA & NA\\\\\n\t4 & 5022 & 37237 & 500 & 0 & Fight global hunger and support women farmers - Join the Oxfam Action Corps in NYC! &  14 & The Oxfam Action Corps is a group of dedicated volunteers that raise awareness by holding events and reaching out to people in our neighborhoods, town events, rock concerts – and, most importantly, in the halls of Congress.  Sign up by February 14:  http://www.oxfamactioncorps.org           &  &  1 & Strengthening Communities & ⋯ & March 31 2012    & approved & NA & NA & NA & NA & NA & NA & NA & NA\\\\\n\t5 & 5055 & 37425 &  15 & 0 & Stop 'N' Swap                                                                       &  31 & Stop 'N' Swap reduces NYC's waste by finding new homes for unwanted, but usable items.  Help sort, fold and display items to make this a fun free reuse experience for all.                                                                                                                         &  &  4 & Environment               & ⋯ & February 05 2011 & approved & NA & NA & NA & NA & NA & NA & NA & NA\\\\\n\t6 & 5056 & 37426 &  15 & 0 & Queens Stop 'N' Swap                                                                & 135 & Stop 'N' Swap reduces NYC's waste by finding new homes for unwanted, but usable items.  Help sort, fold and display items to make this a fun free reuse experience for all.                                                                                                                         &  &  4 & Environment               & ⋯ & February 12 2011 & approved & NA & NA & NA & NA & NA & NA & NA & NA\\\\\n\\end{tabular}\n",
            "text/plain": [
              "  opportunity_id content_id vol_requests event_time\n",
              "1 4996           37004       50          0         \n",
              "2 5008           37036        2          0         \n",
              "3 5016           37143       20          0         \n",
              "4 5022           37237      500          0         \n",
              "5 5055           37425       15          0         \n",
              "6 5056           37426       15          0         \n",
              "  title                                                                              \n",
              "1 Volunteers Needed For Rise Up & Stay Put! Home Rescue Fair                         \n",
              "2 Web designer                                                                       \n",
              "3 Urban Adventures - Ice Skating at Lasker Rink                                      \n",
              "4 Fight global hunger and support women farmers - Join the Oxfam Action Corps in NYC!\n",
              "5 Stop 'N' Swap                                                                      \n",
              "6 Queens Stop 'N' Swap                                                               \n",
              "  hits\n",
              "1 737 \n",
              "2  22 \n",
              "3  62 \n",
              "4  14 \n",
              "5  31 \n",
              "6 135 \n",
              "  summary                                                                                                                                                                                                                                                                                            \n",
              "1 Building on successful events last summer and earlier this year in the Bronx and in Queens, the Center for NYC Neighborhoods (CNYCN) and its partners are now organizing the last 2011 Rise Up & Stay Put! Home Rescue Fair. It will be on Saturday, July 30 at Long Island University in Brooklyn.\n",
              "2 Build a website for an Afghan business                                                                                                                                                                                                                                                             \n",
              "3 Please join us and the students from Mott Hall on Saturday, January 29th, for an ice skating trip to Lasker Lanes!                                                                                                                                                                                 \n",
              "4 The Oxfam Action Corps is a group of dedicated volunteers that raise awareness by holding events and reaching out to people in our neighborhoods, town events, rock concerts – and, most importantly, in the halls of Congress.  Sign up by February 14:  http://www.oxfamactioncorps.org          \n",
              "5 Stop 'N' Swap reduces NYC's waste by finding new homes for unwanted, but usable items.  Help sort, fold and display items to make this a fun free reuse experience for all.                                                                                                                        \n",
              "6 Stop 'N' Swap reduces NYC's waste by finding new homes for unwanted, but usable items.  Help sort, fold and display items to make this a fun free reuse experience for all.                                                                                                                        \n",
              "  is_priority category_id category_desc             ⋯ end_date_date    status  \n",
              "1             NA                                    ⋯ July 30 2011     approved\n",
              "2              1          Strengthening Communities ⋯ February 01 2011 approved\n",
              "3              1          Strengthening Communities ⋯ January 29 2011  approved\n",
              "4              1          Strengthening Communities ⋯ March 31 2012    approved\n",
              "5              4          Environment               ⋯ February 05 2011 approved\n",
              "6              4          Environment               ⋯ February 12 2011 approved\n",
              "  Latitude Longitude Community.Board Community.Council Census.Tract BIN BBL NTA\n",
              "1 NA       NA        NA              NA                NA           NA  NA  NA \n",
              "2 NA       NA        NA              NA                NA           NA  NA  NA \n",
              "3 NA       NA        NA              NA                NA           NA  NA  NA \n",
              "4 NA       NA        NA              NA                NA           NA  NA  NA \n",
              "5 NA       NA        NA              NA                NA           NA  NA  NA \n",
              "6 NA       NA        NA              NA                NA           NA  NA  NA "
            ]
          },
          "metadata": {}
        }
      ]
    },
    {
      "cell_type": "code",
      "source": [
        "# Check for missing values\n",
        "colSums(is.na(volunteer_data))"
      ],
      "metadata": {
        "colab": {
          "base_uri": "https://localhost:8080/",
          "height": 104
        },
        "id": "Jky162-5of_N",
        "outputId": "259f4a11-9621-4fc9-d1b9-4c52da841b0a"
      },
      "execution_count": null,
      "outputs": [
        {
          "output_type": "display_data",
          "data": {
            "text/html": [
              "<style>\n",
              ".dl-inline {width: auto; margin:0; padding: 0}\n",
              ".dl-inline>dt, .dl-inline>dd {float: none; width: auto; display: inline-block}\n",
              ".dl-inline>dt::after {content: \":\\0020\"; padding-right: .5ex}\n",
              ".dl-inline>dt:not(:first-of-type) {padding-left: .5ex}\n",
              "</style><dl class=dl-inline><dt>opportunity_id</dt><dd>0</dd><dt>content_id</dt><dd>0</dd><dt>vol_requests</dt><dd>0</dd><dt>event_time</dt><dd>0</dd><dt>title</dt><dd>0</dd><dt>hits</dt><dd>0</dd><dt>summary</dt><dd>0</dd><dt>is_priority</dt><dd>0</dd><dt>category_id</dt><dd>48</dd><dt>category_desc</dt><dd>0</dd><dt>amsl</dt><dd>665</dd><dt>amsl_unit</dt><dd>665</dd><dt>org_title</dt><dd>0</dd><dt>org_content_id</dt><dd>0</dd><dt>addresses_count</dt><dd>0</dd><dt>locality</dt><dd>0</dd><dt>region</dt><dd>0</dd><dt>postalcode</dt><dd>6</dd><dt>primary_loc</dt><dd>665</dd><dt>display_url</dt><dd>0</dd><dt>recurrence_type</dt><dd>0</dd><dt>hours</dt><dd>0</dd><dt>created_date</dt><dd>0</dd><dt>last_modified_date</dt><dd>0</dd><dt>start_date_date</dt><dd>0</dd><dt>end_date_date</dt><dd>0</dd><dt>status</dt><dd>0</dd><dt>Latitude</dt><dd>665</dd><dt>Longitude</dt><dd>665</dd><dt>Community.Board</dt><dd>665</dd><dt>Community.Council</dt><dd>665</dd><dt>Census.Tract</dt><dd>665</dd><dt>BIN</dt><dd>665</dd><dt>BBL</dt><dd>665</dd><dt>NTA</dt><dd>665</dd></dl>\n"
            ],
            "text/markdown": "opportunity_id\n:   0content_id\n:   0vol_requests\n:   0event_time\n:   0title\n:   0hits\n:   0summary\n:   0is_priority\n:   0category_id\n:   48category_desc\n:   0amsl\n:   665amsl_unit\n:   665org_title\n:   0org_content_id\n:   0addresses_count\n:   0locality\n:   0region\n:   0postalcode\n:   6primary_loc\n:   665display_url\n:   0recurrence_type\n:   0hours\n:   0created_date\n:   0last_modified_date\n:   0start_date_date\n:   0end_date_date\n:   0status\n:   0Latitude\n:   665Longitude\n:   665Community.Board\n:   665Community.Council\n:   665Census.Tract\n:   665BIN\n:   665BBL\n:   665NTA\n:   665\n\n",
            "text/latex": "\\begin{description*}\n\\item[opportunity\\textbackslash{}\\_id] 0\n\\item[content\\textbackslash{}\\_id] 0\n\\item[vol\\textbackslash{}\\_requests] 0\n\\item[event\\textbackslash{}\\_time] 0\n\\item[title] 0\n\\item[hits] 0\n\\item[summary] 0\n\\item[is\\textbackslash{}\\_priority] 0\n\\item[category\\textbackslash{}\\_id] 48\n\\item[category\\textbackslash{}\\_desc] 0\n\\item[amsl] 665\n\\item[amsl\\textbackslash{}\\_unit] 665\n\\item[org\\textbackslash{}\\_title] 0\n\\item[org\\textbackslash{}\\_content\\textbackslash{}\\_id] 0\n\\item[addresses\\textbackslash{}\\_count] 0\n\\item[locality] 0\n\\item[region] 0\n\\item[postalcode] 6\n\\item[primary\\textbackslash{}\\_loc] 665\n\\item[display\\textbackslash{}\\_url] 0\n\\item[recurrence\\textbackslash{}\\_type] 0\n\\item[hours] 0\n\\item[created\\textbackslash{}\\_date] 0\n\\item[last\\textbackslash{}\\_modified\\textbackslash{}\\_date] 0\n\\item[start\\textbackslash{}\\_date\\textbackslash{}\\_date] 0\n\\item[end\\textbackslash{}\\_date\\textbackslash{}\\_date] 0\n\\item[status] 0\n\\item[Latitude] 665\n\\item[Longitude] 665\n\\item[Community.Board] 665\n\\item[Community.Council] 665\n\\item[Census.Tract] 665\n\\item[BIN] 665\n\\item[BBL] 665\n\\item[NTA] 665\n\\end{description*}\n",
            "text/plain": [
              "    opportunity_id         content_id       vol_requests         event_time \n",
              "                 0                  0                  0                  0 \n",
              "             title               hits            summary        is_priority \n",
              "                 0                  0                  0                  0 \n",
              "       category_id      category_desc               amsl          amsl_unit \n",
              "                48                  0                665                665 \n",
              "         org_title     org_content_id    addresses_count           locality \n",
              "                 0                  0                  0                  0 \n",
              "            region         postalcode        primary_loc        display_url \n",
              "                 0                  6                665                  0 \n",
              "   recurrence_type              hours       created_date last_modified_date \n",
              "                 0                  0                  0                  0 \n",
              "   start_date_date      end_date_date             status           Latitude \n",
              "                 0                  0                  0                665 \n",
              "         Longitude    Community.Board  Community.Council       Census.Tract \n",
              "               665                665                665                665 \n",
              "               BIN                BBL                NTA \n",
              "               665                665                665 "
            ]
          },
          "metadata": {}
        }
      ]
    },
    {
      "cell_type": "code",
      "source": [
        "\n",
        "# Optionally, remove or impute missing values\n",
        "volunteer_data <- na.omit(volunteer_data)  # Remove rows with missing data\n"
      ],
      "metadata": {
        "id": "4DRZ0smkql7w"
      },
      "execution_count": null,
      "outputs": []
    },
    {
      "cell_type": "code",
      "source": [
        "ggplot(volunteer_data, aes(x = hits)) +\n",
        "  geom_histogram(binwidth = 10, fill = \"blue\", color = \"black\") + # Adjust binwidth if needed\n",
        "  labs(title = \"Distribution of Hits\",\n",
        "       x = \"Number of Hits\", y = \"Count\")"
      ],
      "metadata": {
        "colab": {
          "base_uri": "https://localhost:8080/",
          "height": 437
        },
        "id": "CcN0ZglBs8MO",
        "outputId": "1a636493-384e-452e-99c5-185ca1a04036"
      },
      "execution_count": null,
      "outputs": [
        {
          "output_type": "display_data",
          "data": {
            "text/plain": [
              "plot without title"
            ],
            "image/png": "[encoded data removed]"
          },
          "metadata": {
            "image/png": {
              "width": 420,
              "height": 420
            }
          }
        }
      ]
    },
    {
      "cell_type": "markdown",
      "source": [
        "1.visual\n"
      ],
      "metadata": {
        "id": "Uf2nYkf6vqU5"
      }
    },
    {
      "cell_type": "markdown",
      "source": [
        "mod 2\n"
      ],
      "metadata": {
        "id": "Y4gz0sIG-3At"
      }
    },
    {
      "cell_type": "code",
      "source": [
        "ggplot(top_orgs, aes(x = reorder(org_title, n), y = n)) +\n",
        "  geom_col(fill = \"purple\") +\n",
        "  coord_flip() +\n",
        "  labs(title = \"Top 10 Organizations with Most Events\",\n",
        "       x = \"Organization\", y = \"Event Count\")"
      ],
      "metadata": {
        "colab": {
          "base_uri": "https://localhost:8080/",
          "height": 228
        },
        "id": "yO82e3vb8pgb",
        "outputId": "923d3442-bb5e-4dad-c233-e0c9a82de6d7"
      },
      "execution_count": null,
      "outputs": [
        {
          "output_type": "error",
          "ename": "ERROR",
          "evalue": "Error: object 'top_orgs' not found\n",
          "traceback": [
            "Error: object 'top_orgs' not found\nTraceback:\n",
            "1. .handleSimpleError(function (cnd) \n . {\n .     watcher$capture_plot_and_output()\n .     cnd <- sanitize_call(cnd)\n .     watcher$push(cnd)\n .     switch(on_error, continue = invokeRestart(\"eval_continue\"), \n .         stop = invokeRestart(\"eval_stop\"), error = NULL)\n . }, \"object 'top_orgs' not found\", base::quote(eval(expr, envir)))"
          ]
        }
      ]
    },
    {
      "cell_type": "code",
      "source": [
        "# Load necessary libraries\n",
        "library(ggplot2)\n",
        "library(reshape2)\n",
        "\n",
        "# Assuming your data is stored in 'volunteer_data'\n",
        "# Replace 'df' with 'volunteer_data'\n",
        "\n",
        "# Create a correlation matrix\n",
        "cor_matrix <- cor(volunteer_data[sapply(volunteer_data, is.numeric)], use = \"complete.obs\")\n",
        "\n",
        "# Reshape the correlation matrix for ggplot\n",
        "melted_cor_matrix <- melt(cor_matrix)\n",
        "\n",
        "# Generate the heatmap with ggplot\n",
        "ggplot(melted_cor_matrix, aes(Var1, Var2, fill = value)) +\n",
        "  geom_tile() +\n",
        "  scale_fill_gradient2(low = \"blue\", high = \"red\", mid = \"white\", midpoint = 0) +\n",
        "  theme_minimal() +\n",
        "  theme(axis.text.x = element_text(angle = 45, hjust = 1)) +\n",
        "  labs(title = \"Correlation Heatmap\")"
      ],
      "metadata": {
        "id": "nXeoETe1-y34"
      },
      "execution_count": null,
      "outputs": []
    },
    {
      "cell_type": "code",
      "source": [
        "# Scatter plot of hits vs. volunteer requests\n",
        "ggplot(volunteer_data, aes(x = hits, y = vol_requests)) +\n",
        "  geom_point(color = \"darkgreen\", alpha = 0.5) +\n",
        "  labs(title = \"Relationship between Hits and Volunteer Requests\",\n",
        "       x = \"Number of Hits\", y = \"Number of Volunteer Requests\")"
      ],
      "metadata": {
        "id": "9FIVuMRO_JRM"
      },
      "execution_count": null,
      "outputs": []
    },
    {
      "cell_type": "code",
      "source": [
        "ggplot(volunteer_data, aes(x = hits)) +\n",
        "  geom_histogram(binwidth = 10, fill = \"blue\", color = \"black\") + # Adjust binwidth if needed\n",
        "  labs(title = \"Distribution of Hits\",\n",
        "       x = \"Number of Hits\", y = \"Count\")"
      ],
      "metadata": {
        "id": "wBzmbl6S_VwK"
      },
      "execution_count": null,
      "outputs": []
    },
    {
      "cell_type": "code",
      "source": [
        "ggplot(volunteer_data, aes(x = category_desc)) +\n",
        "  geom_bar(fill = \"tomato\") +\n",
        "  theme(axis.text.x = element_text(angle = 45, hjust = 1)) +\n",
        "  labs(title = \"Distribution of Volunteer Categories\", x = \"Category\", y = \"Count\")"
      ],
      "metadata": {
        "id": "BV-UtCUn_aZz"
      },
      "execution_count": null,
      "outputs": []
    },
    {
      "cell_type": "markdown",
      "source": [
        "MOD 3"
      ],
      "metadata": {
        "id": "CQqrd1vgqRIc"
      }
    },
    {
      "cell_type": "code",
      "source": [
        "# If there's a Date column in the dataset, analyze monthly trends\n",
        "volunteer_match$Date <- as.Date(volunteer_match$Date, format = \"%Y-%m-%d\")\n",
        "volunteer_match$Month <- format(volunteer_match$Date, \"%Y-%m\")\n",
        "\n",
        "monthly_availability <- volunteer_match %>%\n",
        "  group_by(Month) %>%\n",
        "  summarise(Total_Hours_Available = sum(Available_Hours))\n",
        "\n",
        "# Plot availability trends over time\n",
        "ggplot(monthly_availability, aes(x = Month, y = Total_Hours_Available)) +\n",
        "  geom_line(color = \"darkred\") +\n",
        "  labs(title = \"Monthly Volunteer Availability\", x = \"Month\", y = \"Total Available Hours\") +\n",
        "  theme(axis.text.x = element_text(angle = 45, hjust = 1))\n"
      ],
      "metadata": {
        "id": "SzPVacfr5Duw"
      },
      "execution_count": null,
      "outputs": []
    }
  ]
}